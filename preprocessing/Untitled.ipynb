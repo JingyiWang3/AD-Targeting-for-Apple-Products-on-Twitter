{
 "cells": [
  {
   "cell_type": "code",
   "execution_count": 253,
   "metadata": {},
   "outputs": [],
   "source": [
    "from __future__ import print_function\n",
    "import tweepy\n",
    "import json\n",
    "from pymongo import MongoClient"
   ]
  },
  {
   "cell_type": "code",
   "execution_count": 254,
   "metadata": {},
   "outputs": [],
   "source": [
    "# cursor = db.collection.find().limit(200).sort([(\"created_at\",-1)])"
   ]
  },
  {
   "cell_type": "code",
   "execution_count": 255,
   "metadata": {},
   "outputs": [
    {
     "name": "stdout",
     "output_type": "stream",
     "text": [
      "<a href=\"http://twitter.com/download/android\" rel=\"nofollow\">Twitter for Android</a>\n",
      "Andriod\n",
      "<a href=\"http://twitter.com/download/android\" rel=\"nofollow\">Twitter for Android</a>\n",
      "Andriod\n",
      "<a href=\"http://twitter.com/download/android\" rel=\"nofollow\">Twitter for Android</a>\n",
      "Andriod\n",
      "<a href=\"http://twitter.com/download/android\" rel=\"nofollow\">Twitter for Android</a>\n",
      "Andriod\n",
      "<a href=\"http://twitter.com/download/android\" rel=\"nofollow\">Twitter for Android</a>\n",
      "Andriod\n",
      "<a href=\"http://twitter.com\" rel=\"nofollow\">Twitter Web Client</a>\n",
      "Web\n",
      "<a href=\"https://buffer.com\" rel=\"nofollow\">Buffer</a>\n",
      "Buffer\n"
     ]
    }
   ],
   "source": [
    "MONGO_HOST= 'mongodb://127.0.0.1:27017/twitterdb'\n",
    "client = MongoClient(MONGO_HOST)\n",
    "            \n",
    "            # Use twitterdb database. If it doesn't exist, it will be created.\n",
    "db = client.twitterdb\n",
    "\n",
    "cursor = db.twitter_search.find().limit(10000).sort([(\"created_at\",-1)])\n",
    "\n",
    "import pandas as pd\n",
    "new_df = pd.DataFrame() #columns = ['location']\n",
    "HASHTAGS = ['airpod','ipad','macbook','iphone','iwatch']\n",
    "\n",
    "states = [\"AL\", \"AK\", \"AZ\", \"AR\", \"CA\", \"CO\", \"CT\", \"DC\", \"DE\", \"FL\", \"GA\", \n",
    "          \"HI\", \"ID\", \"IL\", \"IN\", \"IA\", \"KS\", \"KY\", \"LA\", \"ME\", \"MD\", \n",
    "          \"MA\", \"MI\", \"MN\", \"MS\", \"MO\", \"MT\", \"NE\", \"NV\", \"NH\", \"NJ\", \n",
    "          \"NM\", \"NY\", \"NC\", \"ND\", \"OH\", \"OK\", \"OR\", \"PA\", \"RI\", \"SC\", \n",
    "          \"SD\", \"TN\", \"TX\", \"UT\", \"VT\", \"VA\", \"WA\", \"WV\", \"WI\", \"WY\"]\n",
    "for post in cursor:\n",
    "    if str(post['user']['location']).split(', ')[-1] in states:\n",
    "        #print('loc', str(post['user']['location']).split(', ')[-1])\n",
    "        for i, hashtag in enumerate(post['entities']['hashtags']):\n",
    "            #print(post['entities']['hashtags'][i]['text'])\n",
    "            if post['entities']['hashtags'][i]['text'] in HASHTAGS:\n",
    "                print(str(post['source']))\n",
    "                device = ''\n",
    "                if 'Android' in str(post['source']):\n",
    "                    device = 'Andriod'\n",
    "                    print('Andriod')\n",
    "                elif 'Web' in str(post['source']):\n",
    "                    device = 'Web'\n",
    "                    print('Web')\n",
    "                elif 'iPhone' in str(post['source']):\n",
    "                    device = 'iPhone'\n",
    "                    print('iPhone')\n",
    "                elif 'Buffer' in str(post['source']):\n",
    "                    device = 'Buffer'\n",
    "                    print('Buffer')\n",
    "                elif 'None' in str(post['source']):\n",
    "                    device = 'None'\n",
    "                    print('None')\n",
    "                else:\n",
    "                    continue\n",
    "                new_df = new_df.append({'location' : str(post['user']['location']).split(', ')[-1], \n",
    "                                        'time' : post['created_at'],\n",
    "                                        'tag' : post['entities']['hashtags'][i]['text'],\n",
    "                                        'device' : device},\n",
    "                                         ignore_index=True)\n",
    "    \n",
    "\n"
   ]
  },
  {
   "cell_type": "code",
   "execution_count": 256,
   "metadata": {},
   "outputs": [
    {
     "data": {
      "text/html": [
       "<div>\n",
       "<style scoped>\n",
       "    .dataframe tbody tr th:only-of-type {\n",
       "        vertical-align: middle;\n",
       "    }\n",
       "\n",
       "    .dataframe tbody tr th {\n",
       "        vertical-align: top;\n",
       "    }\n",
       "\n",
       "    .dataframe thead th {\n",
       "        text-align: right;\n",
       "    }\n",
       "</style>\n",
       "<table border=\"1\" class=\"dataframe\">\n",
       "  <thead>\n",
       "    <tr style=\"text-align: right;\">\n",
       "      <th></th>\n",
       "      <th>device</th>\n",
       "      <th>location</th>\n",
       "      <th>tag</th>\n",
       "      <th>time</th>\n",
       "    </tr>\n",
       "  </thead>\n",
       "  <tbody>\n",
       "    <tr>\n",
       "      <th>count</th>\n",
       "      <td>7</td>\n",
       "      <td>7</td>\n",
       "      <td>7</td>\n",
       "      <td>7</td>\n",
       "    </tr>\n",
       "    <tr>\n",
       "      <th>unique</th>\n",
       "      <td>3</td>\n",
       "      <td>3</td>\n",
       "      <td>2</td>\n",
       "      <td>7</td>\n",
       "    </tr>\n",
       "    <tr>\n",
       "      <th>top</th>\n",
       "      <td>Andriod</td>\n",
       "      <td>FL</td>\n",
       "      <td>ipad</td>\n",
       "      <td>Fri Nov 30 05:44:03 +0000 2018</td>\n",
       "    </tr>\n",
       "    <tr>\n",
       "      <th>freq</th>\n",
       "      <td>5</td>\n",
       "      <td>5</td>\n",
       "      <td>5</td>\n",
       "      <td>1</td>\n",
       "    </tr>\n",
       "  </tbody>\n",
       "</table>\n",
       "</div>"
      ],
      "text/plain": [
       "         device location   tag                            time\n",
       "count         7        7     7                               7\n",
       "unique        3        3     2                               7\n",
       "top     Andriod       FL  ipad  Fri Nov 30 05:44:03 +0000 2018\n",
       "freq          5        5     5                               1"
      ]
     },
     "execution_count": 256,
     "metadata": {},
     "output_type": "execute_result"
    }
   ],
   "source": [
    "new_df.describe()"
   ]
  },
  {
   "cell_type": "code",
   "execution_count": 244,
   "metadata": {},
   "outputs": [
    {
     "data": {
      "text/html": [
       "<div>\n",
       "<style scoped>\n",
       "    .dataframe tbody tr th:only-of-type {\n",
       "        vertical-align: middle;\n",
       "    }\n",
       "\n",
       "    .dataframe tbody tr th {\n",
       "        vertical-align: top;\n",
       "    }\n",
       "\n",
       "    .dataframe thead th {\n",
       "        text-align: right;\n",
       "    }\n",
       "</style>\n",
       "<table border=\"1\" class=\"dataframe\">\n",
       "  <thead>\n",
       "    <tr style=\"text-align: right;\">\n",
       "      <th></th>\n",
       "      <th>device</th>\n",
       "      <th>location</th>\n",
       "      <th>tag</th>\n",
       "      <th>time</th>\n",
       "    </tr>\n",
       "  </thead>\n",
       "  <tbody>\n",
       "    <tr>\n",
       "      <th>0</th>\n",
       "      <td>Andriod</td>\n",
       "      <td>FL</td>\n",
       "      <td>ipad</td>\n",
       "      <td>Fri Nov 30 05:44:03 +0000 2018</td>\n",
       "    </tr>\n",
       "    <tr>\n",
       "      <th>1</th>\n",
       "      <td>Andriod</td>\n",
       "      <td>FL</td>\n",
       "      <td>ipad</td>\n",
       "      <td>Fri Nov 30 05:40:01 +0000 2018</td>\n",
       "    </tr>\n",
       "    <tr>\n",
       "      <th>2</th>\n",
       "      <td>Andriod</td>\n",
       "      <td>FL</td>\n",
       "      <td>ipad</td>\n",
       "      <td>Fri Nov 30 05:35:58 +0000 2018</td>\n",
       "    </tr>\n",
       "    <tr>\n",
       "      <th>3</th>\n",
       "      <td>Andriod</td>\n",
       "      <td>FL</td>\n",
       "      <td>ipad</td>\n",
       "      <td>Fri Nov 30 05:31:56 +0000 2018</td>\n",
       "    </tr>\n",
       "    <tr>\n",
       "      <th>4</th>\n",
       "      <td>Andriod</td>\n",
       "      <td>FL</td>\n",
       "      <td>ipad</td>\n",
       "      <td>Fri Nov 30 05:26:55 +0000 2018</td>\n",
       "    </tr>\n",
       "    <tr>\n",
       "      <th>5</th>\n",
       "      <td>Web</td>\n",
       "      <td>TX</td>\n",
       "      <td>iphone</td>\n",
       "      <td>Fri Nov 30 05:18:49 +0000 2018</td>\n",
       "    </tr>\n",
       "    <tr>\n",
       "      <th>6</th>\n",
       "      <td>Buffer</td>\n",
       "      <td>AZ</td>\n",
       "      <td>iphone</td>\n",
       "      <td>Fri Nov 30 05:08:02 +0000 2018</td>\n",
       "    </tr>\n",
       "  </tbody>\n",
       "</table>\n",
       "</div>"
      ],
      "text/plain": [
       "    device location     tag                            time\n",
       "0  Andriod       FL    ipad  Fri Nov 30 05:44:03 +0000 2018\n",
       "1  Andriod       FL    ipad  Fri Nov 30 05:40:01 +0000 2018\n",
       "2  Andriod       FL    ipad  Fri Nov 30 05:35:58 +0000 2018\n",
       "3  Andriod       FL    ipad  Fri Nov 30 05:31:56 +0000 2018\n",
       "4  Andriod       FL    ipad  Fri Nov 30 05:26:55 +0000 2018\n",
       "5      Web       TX  iphone  Fri Nov 30 05:18:49 +0000 2018\n",
       "6   Buffer       AZ  iphone  Fri Nov 30 05:08:02 +0000 2018"
      ]
     },
     "execution_count": 244,
     "metadata": {},
     "output_type": "execute_result"
    }
   ],
   "source": [
    "new_df.head(10)"
   ]
  },
  {
   "cell_type": "code",
   "execution_count": 209,
   "metadata": {},
   "outputs": [
    {
     "data": {
      "text/plain": [
       "0    Fri Nov 30 05:44:03 +0000 2018\n",
       "1    Fri Nov 30 05:40:01 +0000 2018\n",
       "2    Fri Nov 30 05:35:58 +0000 2018\n",
       "3    Fri Nov 30 05:31:56 +0000 2018\n",
       "4    Fri Nov 30 05:26:55 +0000 2018\n",
       "5    Fri Nov 30 05:18:49 +0000 2018\n",
       "6    Fri Nov 30 05:08:02 +0000 2018\n",
       "Name: time, dtype: object"
      ]
     },
     "execution_count": 209,
     "metadata": {},
     "output_type": "execute_result"
    }
   ],
   "source": [
    "new_df['time']"
   ]
  },
  {
   "cell_type": "code",
   "execution_count": 210,
   "metadata": {},
   "outputs": [
    {
     "name": "stdout",
     "output_type": "stream",
     "text": [
      "['Fri', 'Nov', '30', '05:44:03', '+0000', '2018']\n",
      "['Fri', 'Nov', '30', '05:40:01', '+0000', '2018']\n",
      "['Fri', 'Nov', '30', '05:35:58', '+0000', '2018']\n",
      "['Fri', 'Nov', '30', '05:31:56', '+0000', '2018']\n",
      "['Fri', 'Nov', '30', '05:26:55', '+0000', '2018']\n",
      "['Fri', 'Nov', '30', '05:18:49', '+0000', '2018']\n",
      "['Fri', 'Nov', '30', '05:08:02', '+0000', '2018']\n"
     ]
    }
   ],
   "source": [
    "for time in enumerate(new_df['time']):\n",
    "    time_meta = str(time[1]).split(' ')\n",
    "    print(time_meta)"
   ]
  },
  {
   "cell_type": "code",
   "execution_count": 211,
   "metadata": {},
   "outputs": [
    {
     "name": "stdout",
     "output_type": "stream",
     "text": [
      "0    30-Nov-2018 05:44:03\n",
      "1    30-Nov-2018 05:40:01\n",
      "2    30-Nov-2018 05:35:58\n",
      "3    30-Nov-2018 05:31:56\n",
      "4    30-Nov-2018 05:26:55\n",
      "5    30-Nov-2018 05:18:49\n",
      "6    30-Nov-2018 05:08:02\n",
      "Name: time, dtype: object\n"
     ]
    }
   ],
   "source": [
    "a = new_df['time'].apply(lambda x: str(x).split(' '))\n",
    "a = a.apply(lambda x:x[2]+'-'+x[1]+'-'+x[5] + ' ' + x[3])\n",
    "new_df['time'] = a.apply(lambda x:datetime.datetime.strptime(x,'%d-%b-%Y %H:%M:%S').strftime('%Y-%m-%d %H:%M:%S') )\n",
    "print(a)"
   ]
  },
  {
   "cell_type": "code",
   "execution_count": 212,
   "metadata": {},
   "outputs": [
    {
     "data": {
      "text/html": [
       "<div>\n",
       "<style scoped>\n",
       "    .dataframe tbody tr th:only-of-type {\n",
       "        vertical-align: middle;\n",
       "    }\n",
       "\n",
       "    .dataframe tbody tr th {\n",
       "        vertical-align: top;\n",
       "    }\n",
       "\n",
       "    .dataframe thead th {\n",
       "        text-align: right;\n",
       "    }\n",
       "</style>\n",
       "<table border=\"1\" class=\"dataframe\">\n",
       "  <thead>\n",
       "    <tr style=\"text-align: right;\">\n",
       "      <th></th>\n",
       "      <th>device</th>\n",
       "      <th>location</th>\n",
       "      <th>tag</th>\n",
       "      <th>time</th>\n",
       "    </tr>\n",
       "  </thead>\n",
       "  <tbody>\n",
       "    <tr>\n",
       "      <th>0</th>\n",
       "      <td>Andriod</td>\n",
       "      <td>FL</td>\n",
       "      <td>ipad</td>\n",
       "      <td>2018-11-30 05:44:03</td>\n",
       "    </tr>\n",
       "    <tr>\n",
       "      <th>1</th>\n",
       "      <td>Andriod</td>\n",
       "      <td>FL</td>\n",
       "      <td>ipad</td>\n",
       "      <td>2018-11-30 05:40:01</td>\n",
       "    </tr>\n",
       "    <tr>\n",
       "      <th>2</th>\n",
       "      <td>Andriod</td>\n",
       "      <td>FL</td>\n",
       "      <td>ipad</td>\n",
       "      <td>2018-11-30 05:35:58</td>\n",
       "    </tr>\n",
       "    <tr>\n",
       "      <th>3</th>\n",
       "      <td>Andriod</td>\n",
       "      <td>FL</td>\n",
       "      <td>ipad</td>\n",
       "      <td>2018-11-30 05:31:56</td>\n",
       "    </tr>\n",
       "    <tr>\n",
       "      <th>4</th>\n",
       "      <td>Andriod</td>\n",
       "      <td>FL</td>\n",
       "      <td>ipad</td>\n",
       "      <td>2018-11-30 05:26:55</td>\n",
       "    </tr>\n",
       "    <tr>\n",
       "      <th>5</th>\n",
       "      <td>Web</td>\n",
       "      <td>TX</td>\n",
       "      <td>iphone</td>\n",
       "      <td>2018-11-30 05:18:49</td>\n",
       "    </tr>\n",
       "    <tr>\n",
       "      <th>6</th>\n",
       "      <td>Buffer</td>\n",
       "      <td>AZ</td>\n",
       "      <td>iphone</td>\n",
       "      <td>2018-11-30 05:08:02</td>\n",
       "    </tr>\n",
       "  </tbody>\n",
       "</table>\n",
       "</div>"
      ],
      "text/plain": [
       "    device location     tag                 time\n",
       "0  Andriod       FL    ipad  2018-11-30 05:44:03\n",
       "1  Andriod       FL    ipad  2018-11-30 05:40:01\n",
       "2  Andriod       FL    ipad  2018-11-30 05:35:58\n",
       "3  Andriod       FL    ipad  2018-11-30 05:31:56\n",
       "4  Andriod       FL    ipad  2018-11-30 05:26:55\n",
       "5      Web       TX  iphone  2018-11-30 05:18:49\n",
       "6   Buffer       AZ  iphone  2018-11-30 05:08:02"
      ]
     },
     "execution_count": 212,
     "metadata": {},
     "output_type": "execute_result"
    }
   ],
   "source": [
    "new_df.head(10)"
   ]
  },
  {
   "cell_type": "code",
   "execution_count": 213,
   "metadata": {},
   "outputs": [],
   "source": [
    "ddf = new_df.rename(columns={'location': 'school_state', 'time': 'date_posted', 'tag': 'resource_type'})"
   ]
  },
  {
   "cell_type": "code",
   "execution_count": 214,
   "metadata": {},
   "outputs": [
    {
     "data": {
      "text/html": [
       "<div>\n",
       "<style scoped>\n",
       "    .dataframe tbody tr th:only-of-type {\n",
       "        vertical-align: middle;\n",
       "    }\n",
       "\n",
       "    .dataframe tbody tr th {\n",
       "        vertical-align: top;\n",
       "    }\n",
       "\n",
       "    .dataframe thead th {\n",
       "        text-align: right;\n",
       "    }\n",
       "</style>\n",
       "<table border=\"1\" class=\"dataframe\">\n",
       "  <thead>\n",
       "    <tr style=\"text-align: right;\">\n",
       "      <th></th>\n",
       "      <th>device</th>\n",
       "      <th>school_state</th>\n",
       "      <th>resource_type</th>\n",
       "      <th>date_posted</th>\n",
       "    </tr>\n",
       "  </thead>\n",
       "  <tbody>\n",
       "    <tr>\n",
       "      <th>0</th>\n",
       "      <td>Andriod</td>\n",
       "      <td>FL</td>\n",
       "      <td>ipad</td>\n",
       "      <td>2018-11-30 05:44:03</td>\n",
       "    </tr>\n",
       "    <tr>\n",
       "      <th>1</th>\n",
       "      <td>Andriod</td>\n",
       "      <td>FL</td>\n",
       "      <td>ipad</td>\n",
       "      <td>2018-11-30 05:40:01</td>\n",
       "    </tr>\n",
       "    <tr>\n",
       "      <th>2</th>\n",
       "      <td>Andriod</td>\n",
       "      <td>FL</td>\n",
       "      <td>ipad</td>\n",
       "      <td>2018-11-30 05:35:58</td>\n",
       "    </tr>\n",
       "    <tr>\n",
       "      <th>3</th>\n",
       "      <td>Andriod</td>\n",
       "      <td>FL</td>\n",
       "      <td>ipad</td>\n",
       "      <td>2018-11-30 05:31:56</td>\n",
       "    </tr>\n",
       "    <tr>\n",
       "      <th>4</th>\n",
       "      <td>Andriod</td>\n",
       "      <td>FL</td>\n",
       "      <td>ipad</td>\n",
       "      <td>2018-11-30 05:26:55</td>\n",
       "    </tr>\n",
       "    <tr>\n",
       "      <th>5</th>\n",
       "      <td>Web</td>\n",
       "      <td>TX</td>\n",
       "      <td>iphone</td>\n",
       "      <td>2018-11-30 05:18:49</td>\n",
       "    </tr>\n",
       "    <tr>\n",
       "      <th>6</th>\n",
       "      <td>Buffer</td>\n",
       "      <td>AZ</td>\n",
       "      <td>iphone</td>\n",
       "      <td>2018-11-30 05:08:02</td>\n",
       "    </tr>\n",
       "  </tbody>\n",
       "</table>\n",
       "</div>"
      ],
      "text/plain": [
       "    device school_state resource_type          date_posted\n",
       "0  Andriod           FL          ipad  2018-11-30 05:44:03\n",
       "1  Andriod           FL          ipad  2018-11-30 05:40:01\n",
       "2  Andriod           FL          ipad  2018-11-30 05:35:58\n",
       "3  Andriod           FL          ipad  2018-11-30 05:31:56\n",
       "4  Andriod           FL          ipad  2018-11-30 05:26:55\n",
       "5      Web           TX        iphone  2018-11-30 05:18:49\n",
       "6   Buffer           AZ        iphone  2018-11-30 05:08:02"
      ]
     },
     "execution_count": 214,
     "metadata": {},
     "output_type": "execute_result"
    }
   ],
   "source": [
    "ddf.head(10)"
   ]
  },
  {
   "cell_type": "code",
   "execution_count": null,
   "metadata": {},
   "outputs": [],
   "source": []
  }
 ],
 "metadata": {
  "kernelspec": {
   "display_name": "Python 3",
   "language": "python",
   "name": "python3"
  },
  "language_info": {
   "codemirror_mode": {
    "name": "ipython",
    "version": 3
   },
   "file_extension": ".py",
   "mimetype": "text/x-python",
   "name": "python",
   "nbconvert_exporter": "python",
   "pygments_lexer": "ipython3",
   "version": "3.6.4"
  }
 },
 "nbformat": 4,
 "nbformat_minor": 2
}
