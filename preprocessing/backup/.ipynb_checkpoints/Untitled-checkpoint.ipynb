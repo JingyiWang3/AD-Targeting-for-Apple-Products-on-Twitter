{
 "cells": [
  {
   "cell_type": "code",
   "execution_count": 8,
   "metadata": {},
   "outputs": [],
   "source": [
    "from __future__ import print_function\n",
    "import tweepy\n",
    "import json\n",
    "from pymongo import MongoClient"
   ]
  },
  {
   "cell_type": "code",
   "execution_count": 9,
   "metadata": {},
   "outputs": [],
   "source": [
    "# cursor = db.collection.find().limit(200).sort([(\"created_at\",-1)])"
   ]
  },
  {
   "cell_type": "code",
   "execution_count": 10,
   "metadata": {},
   "outputs": [
    {
     "ename": "ModuleNotFoundError",
     "evalue": "No module named 'nltk'",
     "output_type": "error",
     "traceback": [
      "\u001b[0;31m---------------------------------------------------------------------------\u001b[0m",
      "\u001b[0;31mModuleNotFoundError\u001b[0m                       Traceback (most recent call last)",
      "\u001b[0;32m<ipython-input-10-4f97a15ba2be>\u001b[0m in \u001b[0;36m<module>\u001b[0;34m()\u001b[0m\n\u001b[1;32m      1\u001b[0m \u001b[0;32mimport\u001b[0m \u001b[0mre\u001b[0m\u001b[0;34m\u001b[0m\u001b[0m\n\u001b[0;32m----> 2\u001b[0;31m \u001b[0;32mimport\u001b[0m \u001b[0mnltk\u001b[0m\u001b[0;34m\u001b[0m\u001b[0m\n\u001b[0m\u001b[1;32m      3\u001b[0m \u001b[0;31m# 到时候再看看 twitter_text\u001b[0m\u001b[0;34m\u001b[0m\u001b[0;34m\u001b[0m\u001b[0m\n\u001b[1;32m      4\u001b[0m \u001b[0;32mdef\u001b[0m \u001b[0mfilter_tweet\u001b[0m\u001b[0;34m(\u001b[0m\u001b[0mtweet\u001b[0m\u001b[0;34m)\u001b[0m\u001b[0;34m:\u001b[0m\u001b[0;34m\u001b[0m\u001b[0m\n\u001b[1;32m      5\u001b[0m     \u001b[0;31m# 替换twitter特殊字符\u001b[0m\u001b[0;34m\u001b[0m\u001b[0;34m\u001b[0m\u001b[0m\n",
      "\u001b[0;31mModuleNotFoundError\u001b[0m: No module named 'nltk'"
     ]
    }
   ],
   "source": [
    "import re\n",
    "import nltk\n",
    "# 到时候再看看 twitter_text\n",
    "def filter_tweet(tweet):\n",
    "    # 替换twitter特殊字符\n",
    "    tweet = tweet.lower()\n",
    "    # 替换tweet Url and user mentions\n",
    "    tweet = re.sub(r\"(http[s:…]*(//\\S*)?)|(@\\w+)\", \"\", tweet)\n",
    "    tweet = [wnl.lemmatize(word) for word in nltk.word_tokenize(tweet)]\n",
    "    tweet = [word for word in tweet if word not in remove_words and len(word) >= 3]\n",
    "    return tweet"
   ]
  },
  {
   "cell_type": "code",
   "execution_count": 7,
   "metadata": {},
   "outputs": [
    {
     "ename": "NameError",
     "evalue": "name 'nltk' is not defined",
     "output_type": "error",
     "traceback": [
      "\u001b[0;31m---------------------------------------------------------------------------\u001b[0m",
      "\u001b[0;31mNameError\u001b[0m                                 Traceback (most recent call last)",
      "\u001b[0;32m<ipython-input-7-67b4e0d0f81d>\u001b[0m in \u001b[0;36m<module>\u001b[0;34m()\u001b[0m\n\u001b[1;32m     19\u001b[0m     \u001b[0;32mif\u001b[0m \u001b[0mstr\u001b[0m\u001b[0;34m(\u001b[0m\u001b[0mpost\u001b[0m\u001b[0;34m[\u001b[0m\u001b[0;34m'user'\u001b[0m\u001b[0;34m]\u001b[0m\u001b[0;34m[\u001b[0m\u001b[0;34m'location'\u001b[0m\u001b[0;34m]\u001b[0m\u001b[0;34m)\u001b[0m\u001b[0;34m.\u001b[0m\u001b[0msplit\u001b[0m\u001b[0;34m(\u001b[0m\u001b[0;34m', '\u001b[0m\u001b[0;34m)\u001b[0m\u001b[0;34m[\u001b[0m\u001b[0;34m-\u001b[0m\u001b[0;36m1\u001b[0m\u001b[0;34m]\u001b[0m \u001b[0;32min\u001b[0m \u001b[0mstates\u001b[0m\u001b[0;34m:\u001b[0m\u001b[0;34m\u001b[0m\u001b[0m\n\u001b[1;32m     20\u001b[0m \u001b[0;34m\u001b[0m\u001b[0m\n\u001b[0;32m---> 21\u001b[0;31m         \u001b[0mprint\u001b[0m\u001b[0;34m(\u001b[0m\u001b[0mfilter_tweet\u001b[0m\u001b[0;34m(\u001b[0m\u001b[0mpost\u001b[0m\u001b[0;34m[\u001b[0m\u001b[0;34m'text'\u001b[0m\u001b[0;34m]\u001b[0m\u001b[0;34m)\u001b[0m\u001b[0;34m)\u001b[0m\u001b[0;34m\u001b[0m\u001b[0m\n\u001b[0m\u001b[1;32m     22\u001b[0m \u001b[0;34m\u001b[0m\u001b[0m\n\u001b[1;32m     23\u001b[0m         \u001b[0;32mfor\u001b[0m \u001b[0mi\u001b[0m\u001b[0;34m,\u001b[0m \u001b[0mhashtag\u001b[0m \u001b[0;32min\u001b[0m \u001b[0menumerate\u001b[0m\u001b[0;34m(\u001b[0m\u001b[0mpost\u001b[0m\u001b[0;34m[\u001b[0m\u001b[0;34m'entities'\u001b[0m\u001b[0;34m]\u001b[0m\u001b[0;34m[\u001b[0m\u001b[0;34m'hashtags'\u001b[0m\u001b[0;34m]\u001b[0m\u001b[0;34m)\u001b[0m\u001b[0;34m:\u001b[0m\u001b[0;34m\u001b[0m\u001b[0m\n",
      "\u001b[0;32m<ipython-input-6-cb252c42e214>\u001b[0m in \u001b[0;36mfilter_tweet\u001b[0;34m(tweet)\u001b[0m\n\u001b[1;32m      6\u001b[0m     \u001b[0;31m# 替换tweet Url and user mentions\u001b[0m\u001b[0;34m\u001b[0m\u001b[0;34m\u001b[0m\u001b[0m\n\u001b[1;32m      7\u001b[0m     \u001b[0mtweet\u001b[0m \u001b[0;34m=\u001b[0m \u001b[0mre\u001b[0m\u001b[0;34m.\u001b[0m\u001b[0msub\u001b[0m\u001b[0;34m(\u001b[0m\u001b[0;34mr\"(http[s:…]*(//\\S*)?)|(@\\w+)\"\u001b[0m\u001b[0;34m,\u001b[0m \u001b[0;34m\"\"\u001b[0m\u001b[0;34m,\u001b[0m \u001b[0mtweet\u001b[0m\u001b[0;34m)\u001b[0m\u001b[0;34m\u001b[0m\u001b[0m\n\u001b[0;32m----> 8\u001b[0;31m     \u001b[0mtweet\u001b[0m \u001b[0;34m=\u001b[0m \u001b[0;34m[\u001b[0m\u001b[0mwnl\u001b[0m\u001b[0;34m.\u001b[0m\u001b[0mlemmatize\u001b[0m\u001b[0;34m(\u001b[0m\u001b[0mword\u001b[0m\u001b[0;34m)\u001b[0m \u001b[0;32mfor\u001b[0m \u001b[0mword\u001b[0m \u001b[0;32min\u001b[0m \u001b[0mnltk\u001b[0m\u001b[0;34m.\u001b[0m\u001b[0mword_tokenize\u001b[0m\u001b[0;34m(\u001b[0m\u001b[0mtweet\u001b[0m\u001b[0;34m)\u001b[0m\u001b[0;34m]\u001b[0m\u001b[0;34m\u001b[0m\u001b[0m\n\u001b[0m\u001b[1;32m      9\u001b[0m     \u001b[0mtweet\u001b[0m \u001b[0;34m=\u001b[0m \u001b[0;34m[\u001b[0m\u001b[0mword\u001b[0m \u001b[0;32mfor\u001b[0m \u001b[0mword\u001b[0m \u001b[0;32min\u001b[0m \u001b[0mtweet\u001b[0m \u001b[0;32mif\u001b[0m \u001b[0mword\u001b[0m \u001b[0;32mnot\u001b[0m \u001b[0;32min\u001b[0m \u001b[0mremove_words\u001b[0m \u001b[0;32mand\u001b[0m \u001b[0mlen\u001b[0m\u001b[0;34m(\u001b[0m\u001b[0mword\u001b[0m\u001b[0;34m)\u001b[0m \u001b[0;34m>=\u001b[0m \u001b[0;36m3\u001b[0m\u001b[0;34m]\u001b[0m\u001b[0;34m\u001b[0m\u001b[0m\n\u001b[1;32m     10\u001b[0m     \u001b[0;32mreturn\u001b[0m \u001b[0mtweet\u001b[0m\u001b[0;34m\u001b[0m\u001b[0m\n",
      "\u001b[0;31mNameError\u001b[0m: name 'nltk' is not defined"
     ]
    }
   ],
   "source": [
    "MONGO_HOST= 'mongodb://127.0.0.1:27017/twitterdb'\n",
    "client = MongoClient(MONGO_HOST)\n",
    "            \n",
    "            # Use twitterdb database. If it doesn't exist, it will be created.\n",
    "db = client.twitterdb\n",
    "\n",
    "cursor = db.twitter_search.find().limit(10000).sort([(\"created_at\",-1)])\n",
    "\n",
    "import pandas as pd\n",
    "new_df = pd.DataFrame() #columns = ['location']\n",
    "HASHTAGS = ['airpod','ipad','macbook','iphone','iwatch']\n",
    "\n",
    "states = [\"AL\", \"AK\", \"AZ\", \"AR\", \"CA\", \"CO\", \"CT\", \"DC\", \"DE\", \"FL\", \"GA\", \n",
    "          \"HI\", \"ID\", \"IL\", \"IN\", \"IA\", \"KS\", \"KY\", \"LA\", \"ME\", \"MD\", \n",
    "          \"MA\", \"MI\", \"MN\", \"MS\", \"MO\", \"MT\", \"NE\", \"NV\", \"NH\", \"NJ\", \n",
    "          \"NM\", \"NY\", \"NC\", \"ND\", \"OH\", \"OK\", \"OR\", \"PA\", \"RI\", \"SC\", \n",
    "          \"SD\", \"TN\", \"TX\", \"UT\", \"VT\", \"VA\", \"WA\", \"WV\", \"WI\", \"WY\"]\n",
    "for post in cursor:\n",
    "    if str(post['user']['location']).split(', ')[-1] in states:\n",
    "        \n",
    "        print(filter_tweet(post['text']))\n",
    "        \n",
    "        for i, hashtag in enumerate(post['entities']['hashtags']):\n",
    "            #print(post['entities']['hashtags'][i]['text'])\n",
    "            if post['entities']['hashtags'][i]['text'] in HASHTAGS:\n",
    "                print(str(post['source']))\n",
    "                device = ''\n",
    "                if 'Android' in str(post['source']):\n",
    "                    device = 'Andriod'\n",
    "                    print('Andriod')\n",
    "                elif 'Web' in str(post['source']):\n",
    "                    device = 'Web'\n",
    "                    print('Web')\n",
    "                elif 'iPhone' in str(post['source']):\n",
    "                    device = 'iPhone'\n",
    "                    print('iPhone')\n",
    "                elif 'Buffer' in str(post['source']):\n",
    "                    device = 'Buffer'\n",
    "                    print('Buffer')\n",
    "                elif 'None' in str(post['source']):\n",
    "                    device = 'None'\n",
    "                    print('None')\n",
    "                else:\n",
    "                    continue\n",
    "                new_df = new_df.append({'location' : str(post['user']['location']).split(', ')[-1], \n",
    "                                        'time' : post['created_at'],\n",
    "                                        'tag' : post['entities']['hashtags'][i]['text'],\n",
    "                                        'device' : device,\n",
    "                                        'total_donations': 1},\n",
    "                                         ignore_index=True)\n",
    "    \n",
    "\n"
   ]
  },
  {
   "cell_type": "code",
   "execution_count": 4,
   "metadata": {},
   "outputs": [
    {
     "data": {
      "text/html": [
       "<div>\n",
       "<style scoped>\n",
       "    .dataframe tbody tr th:only-of-type {\n",
       "        vertical-align: middle;\n",
       "    }\n",
       "\n",
       "    .dataframe tbody tr th {\n",
       "        vertical-align: top;\n",
       "    }\n",
       "\n",
       "    .dataframe thead th {\n",
       "        text-align: right;\n",
       "    }\n",
       "</style>\n",
       "<table border=\"1\" class=\"dataframe\">\n",
       "  <thead>\n",
       "    <tr style=\"text-align: right;\">\n",
       "      <th></th>\n",
       "      <th>total_donations</th>\n",
       "    </tr>\n",
       "  </thead>\n",
       "  <tbody>\n",
       "    <tr>\n",
       "      <th>count</th>\n",
       "      <td>7.0</td>\n",
       "    </tr>\n",
       "    <tr>\n",
       "      <th>mean</th>\n",
       "      <td>1.0</td>\n",
       "    </tr>\n",
       "    <tr>\n",
       "      <th>std</th>\n",
       "      <td>0.0</td>\n",
       "    </tr>\n",
       "    <tr>\n",
       "      <th>min</th>\n",
       "      <td>1.0</td>\n",
       "    </tr>\n",
       "    <tr>\n",
       "      <th>25%</th>\n",
       "      <td>1.0</td>\n",
       "    </tr>\n",
       "    <tr>\n",
       "      <th>50%</th>\n",
       "      <td>1.0</td>\n",
       "    </tr>\n",
       "    <tr>\n",
       "      <th>75%</th>\n",
       "      <td>1.0</td>\n",
       "    </tr>\n",
       "    <tr>\n",
       "      <th>max</th>\n",
       "      <td>1.0</td>\n",
       "    </tr>\n",
       "  </tbody>\n",
       "</table>\n",
       "</div>"
      ],
      "text/plain": [
       "       total_donations\n",
       "count              7.0\n",
       "mean               1.0\n",
       "std                0.0\n",
       "min                1.0\n",
       "25%                1.0\n",
       "50%                1.0\n",
       "75%                1.0\n",
       "max                1.0"
      ]
     },
     "execution_count": 4,
     "metadata": {},
     "output_type": "execute_result"
    }
   ],
   "source": [
    "new_df.describe()"
   ]
  },
  {
   "cell_type": "code",
   "execution_count": 5,
   "metadata": {},
   "outputs": [
    {
     "data": {
      "text/html": [
       "<div>\n",
       "<style scoped>\n",
       "    .dataframe tbody tr th:only-of-type {\n",
       "        vertical-align: middle;\n",
       "    }\n",
       "\n",
       "    .dataframe tbody tr th {\n",
       "        vertical-align: top;\n",
       "    }\n",
       "\n",
       "    .dataframe thead th {\n",
       "        text-align: right;\n",
       "    }\n",
       "</style>\n",
       "<table border=\"1\" class=\"dataframe\">\n",
       "  <thead>\n",
       "    <tr style=\"text-align: right;\">\n",
       "      <th></th>\n",
       "      <th>device</th>\n",
       "      <th>location</th>\n",
       "      <th>tag</th>\n",
       "      <th>time</th>\n",
       "      <th>total_donations</th>\n",
       "    </tr>\n",
       "  </thead>\n",
       "  <tbody>\n",
       "    <tr>\n",
       "      <th>0</th>\n",
       "      <td>Andriod</td>\n",
       "      <td>FL</td>\n",
       "      <td>ipad</td>\n",
       "      <td>Fri Nov 30 05:44:03 +0000 2018</td>\n",
       "      <td>1.0</td>\n",
       "    </tr>\n",
       "    <tr>\n",
       "      <th>1</th>\n",
       "      <td>Andriod</td>\n",
       "      <td>FL</td>\n",
       "      <td>ipad</td>\n",
       "      <td>Fri Nov 30 05:40:01 +0000 2018</td>\n",
       "      <td>1.0</td>\n",
       "    </tr>\n",
       "    <tr>\n",
       "      <th>2</th>\n",
       "      <td>Andriod</td>\n",
       "      <td>FL</td>\n",
       "      <td>ipad</td>\n",
       "      <td>Fri Nov 30 05:35:58 +0000 2018</td>\n",
       "      <td>1.0</td>\n",
       "    </tr>\n",
       "    <tr>\n",
       "      <th>3</th>\n",
       "      <td>Andriod</td>\n",
       "      <td>FL</td>\n",
       "      <td>ipad</td>\n",
       "      <td>Fri Nov 30 05:31:56 +0000 2018</td>\n",
       "      <td>1.0</td>\n",
       "    </tr>\n",
       "    <tr>\n",
       "      <th>4</th>\n",
       "      <td>Andriod</td>\n",
       "      <td>FL</td>\n",
       "      <td>ipad</td>\n",
       "      <td>Fri Nov 30 05:26:55 +0000 2018</td>\n",
       "      <td>1.0</td>\n",
       "    </tr>\n",
       "    <tr>\n",
       "      <th>5</th>\n",
       "      <td>Web</td>\n",
       "      <td>TX</td>\n",
       "      <td>iphone</td>\n",
       "      <td>Fri Nov 30 05:18:49 +0000 2018</td>\n",
       "      <td>1.0</td>\n",
       "    </tr>\n",
       "    <tr>\n",
       "      <th>6</th>\n",
       "      <td>Buffer</td>\n",
       "      <td>AZ</td>\n",
       "      <td>iphone</td>\n",
       "      <td>Fri Nov 30 05:08:02 +0000 2018</td>\n",
       "      <td>1.0</td>\n",
       "    </tr>\n",
       "  </tbody>\n",
       "</table>\n",
       "</div>"
      ],
      "text/plain": [
       "    device location     tag                            time  total_donations\n",
       "0  Andriod       FL    ipad  Fri Nov 30 05:44:03 +0000 2018              1.0\n",
       "1  Andriod       FL    ipad  Fri Nov 30 05:40:01 +0000 2018              1.0\n",
       "2  Andriod       FL    ipad  Fri Nov 30 05:35:58 +0000 2018              1.0\n",
       "3  Andriod       FL    ipad  Fri Nov 30 05:31:56 +0000 2018              1.0\n",
       "4  Andriod       FL    ipad  Fri Nov 30 05:26:55 +0000 2018              1.0\n",
       "5      Web       TX  iphone  Fri Nov 30 05:18:49 +0000 2018              1.0\n",
       "6   Buffer       AZ  iphone  Fri Nov 30 05:08:02 +0000 2018              1.0"
      ]
     },
     "execution_count": 5,
     "metadata": {},
     "output_type": "execute_result"
    }
   ],
   "source": [
    "new_df.head(10)"
   ]
  },
  {
   "cell_type": "code",
   "execution_count": 6,
   "metadata": {},
   "outputs": [
    {
     "data": {
      "text/plain": [
       "0    Fri Nov 30 05:44:03 +0000 2018\n",
       "1    Fri Nov 30 05:40:01 +0000 2018\n",
       "2    Fri Nov 30 05:35:58 +0000 2018\n",
       "3    Fri Nov 30 05:31:56 +0000 2018\n",
       "4    Fri Nov 30 05:26:55 +0000 2018\n",
       "5    Fri Nov 30 05:18:49 +0000 2018\n",
       "6    Fri Nov 30 05:08:02 +0000 2018\n",
       "Name: time, dtype: object"
      ]
     },
     "execution_count": 6,
     "metadata": {},
     "output_type": "execute_result"
    }
   ],
   "source": [
    "new_df['time']"
   ]
  },
  {
   "cell_type": "code",
   "execution_count": 7,
   "metadata": {},
   "outputs": [
    {
     "name": "stdout",
     "output_type": "stream",
     "text": [
      "['Fri', 'Nov', '30', '05:44:03', '+0000', '2018']\n",
      "['Fri', 'Nov', '30', '05:40:01', '+0000', '2018']\n",
      "['Fri', 'Nov', '30', '05:35:58', '+0000', '2018']\n",
      "['Fri', 'Nov', '30', '05:31:56', '+0000', '2018']\n",
      "['Fri', 'Nov', '30', '05:26:55', '+0000', '2018']\n",
      "['Fri', 'Nov', '30', '05:18:49', '+0000', '2018']\n",
      "['Fri', 'Nov', '30', '05:08:02', '+0000', '2018']\n"
     ]
    }
   ],
   "source": [
    "for time in enumerate(new_df['time']):\n",
    "    time_meta = str(time[1]).split(' ')\n",
    "    print(time_meta)"
   ]
  },
  {
   "cell_type": "code",
   "execution_count": 9,
   "metadata": {},
   "outputs": [
    {
     "data": {
      "text/plain": [
       "0    2018-11-30 05:44:00\n",
       "1    2018-11-30 05:40:00\n",
       "2    2018-11-30 05:35:00\n",
       "3    2018-11-30 05:31:00\n",
       "4    2018-11-30 05:26:00\n",
       "5    2018-11-30 05:18:00\n",
       "6    2018-11-30 05:08:00\n",
       "Name: time, dtype: object"
      ]
     },
     "execution_count": 9,
     "metadata": {},
     "output_type": "execute_result"
    }
   ],
   "source": [
    "import datetime\n",
    "a = new_df['time'].apply(lambda x: str(x).split(' '))\n",
    "a = a.apply(lambda x:x[2]+'-'+x[1]+'-'+x[5] + ' ' + x[3].split(':')[0] + ':' + x[3].split(':')[1] + ':00')\n",
    "new_df['time'] = a.apply(lambda x:datetime.datetime.strptime(x,'%d-%b-%Y %H:%M:%S').strftime('%Y-%m-%d %H:%M:%S') )\n",
    "new_df['time']"
   ]
  },
  {
   "cell_type": "code",
   "execution_count": 54,
   "metadata": {},
   "outputs": [],
   "source": [
    "ddf = new_df.rename(columns={'location': 'school_state',\n",
    "                             'time': 'date_posted',\n",
    "                             'tag': 'resource_type',\n",
    "                             'device': 'funding_status'})"
   ]
  },
  {
   "cell_type": "code",
   "execution_count": 55,
   "metadata": {},
   "outputs": [
    {
     "data": {
      "text/html": [
       "<div>\n",
       "<style scoped>\n",
       "    .dataframe tbody tr th:only-of-type {\n",
       "        vertical-align: middle;\n",
       "    }\n",
       "\n",
       "    .dataframe tbody tr th {\n",
       "        vertical-align: top;\n",
       "    }\n",
       "\n",
       "    .dataframe thead th {\n",
       "        text-align: right;\n",
       "    }\n",
       "</style>\n",
       "<table border=\"1\" class=\"dataframe\">\n",
       "  <thead>\n",
       "    <tr style=\"text-align: right;\">\n",
       "      <th></th>\n",
       "      <th>funding_status</th>\n",
       "      <th>school_state</th>\n",
       "      <th>resource_type</th>\n",
       "      <th>date_posted</th>\n",
       "      <th>total_donations</th>\n",
       "    </tr>\n",
       "  </thead>\n",
       "  <tbody>\n",
       "    <tr>\n",
       "      <th>0</th>\n",
       "      <td>Andriod</td>\n",
       "      <td>FL</td>\n",
       "      <td>ipad</td>\n",
       "      <td>2018-11-30 05:44:03</td>\n",
       "      <td>1.0</td>\n",
       "    </tr>\n",
       "    <tr>\n",
       "      <th>1</th>\n",
       "      <td>Andriod</td>\n",
       "      <td>FL</td>\n",
       "      <td>ipad</td>\n",
       "      <td>2018-11-30 05:40:01</td>\n",
       "      <td>1.0</td>\n",
       "    </tr>\n",
       "    <tr>\n",
       "      <th>2</th>\n",
       "      <td>Andriod</td>\n",
       "      <td>FL</td>\n",
       "      <td>ipad</td>\n",
       "      <td>2018-11-30 05:35:58</td>\n",
       "      <td>1.0</td>\n",
       "    </tr>\n",
       "    <tr>\n",
       "      <th>3</th>\n",
       "      <td>Andriod</td>\n",
       "      <td>FL</td>\n",
       "      <td>ipad</td>\n",
       "      <td>2018-11-30 05:31:56</td>\n",
       "      <td>1.0</td>\n",
       "    </tr>\n",
       "    <tr>\n",
       "      <th>4</th>\n",
       "      <td>Andriod</td>\n",
       "      <td>FL</td>\n",
       "      <td>ipad</td>\n",
       "      <td>2018-11-30 05:26:55</td>\n",
       "      <td>1.0</td>\n",
       "    </tr>\n",
       "    <tr>\n",
       "      <th>5</th>\n",
       "      <td>Web</td>\n",
       "      <td>TX</td>\n",
       "      <td>iphone</td>\n",
       "      <td>2018-11-30 05:18:49</td>\n",
       "      <td>1.0</td>\n",
       "    </tr>\n",
       "    <tr>\n",
       "      <th>6</th>\n",
       "      <td>Buffer</td>\n",
       "      <td>AZ</td>\n",
       "      <td>iphone</td>\n",
       "      <td>2018-11-30 05:08:02</td>\n",
       "      <td>1.0</td>\n",
       "    </tr>\n",
       "  </tbody>\n",
       "</table>\n",
       "</div>"
      ],
      "text/plain": [
       "  funding_status school_state resource_type          date_posted  \\\n",
       "0        Andriod           FL          ipad  2018-11-30 05:44:03   \n",
       "1        Andriod           FL          ipad  2018-11-30 05:40:01   \n",
       "2        Andriod           FL          ipad  2018-11-30 05:35:58   \n",
       "3        Andriod           FL          ipad  2018-11-30 05:31:56   \n",
       "4        Andriod           FL          ipad  2018-11-30 05:26:55   \n",
       "5            Web           TX        iphone  2018-11-30 05:18:49   \n",
       "6         Buffer           AZ        iphone  2018-11-30 05:08:02   \n",
       "\n",
       "   total_donations  \n",
       "0              1.0  \n",
       "1              1.0  \n",
       "2              1.0  \n",
       "3              1.0  \n",
       "4              1.0  \n",
       "5              1.0  \n",
       "6              1.0  "
      ]
     },
     "execution_count": 55,
     "metadata": {},
     "output_type": "execute_result"
    }
   ],
   "source": [
    "ddf.head(10)"
   ]
  },
  {
   "cell_type": "code",
   "execution_count": 56,
   "metadata": {},
   "outputs": [],
   "source": [
    "ddf.to_csv('dataa.csv')"
   ]
  },
  {
   "cell_type": "code",
   "execution_count": null,
   "metadata": {},
   "outputs": [],
   "source": []
  }
 ],
 "metadata": {
  "kernelspec": {
   "display_name": "Python 3",
   "language": "python",
   "name": "python3"
  },
  "language_info": {
   "codemirror_mode": {
    "name": "ipython",
    "version": 3
   },
   "file_extension": ".py",
   "mimetype": "text/x-python",
   "name": "python",
   "nbconvert_exporter": "python",
   "pygments_lexer": "ipython3",
   "version": "3.6.4"
  }
 },
 "nbformat": 4,
 "nbformat_minor": 2
}
