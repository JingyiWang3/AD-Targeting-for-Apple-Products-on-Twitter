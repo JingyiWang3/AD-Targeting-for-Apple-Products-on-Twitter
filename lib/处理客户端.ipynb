{
 "cells": [
  {
   "cell_type": "code",
   "execution_count": null,
   "metadata": {},
   "outputs": [],
   "source": [
    "def sourceInfo(rawdata):\n",
    "    \n",
    "    # filter language\n",
    "    rawdata = rawdata.loc[rawdata.lang =='en',:]\n",
    "    \n",
    "\n",
    "    data = rawdata.source.str.extractall(r'(?P<link>\\<.+\\>)(?P<text>.+)(<.+>)')\n",
    "    source =  data.groupby('text').count().link \n",
    "\n",
    "    # # offical source\n",
    "    offical = ['Twitter Web Client','Twitter for Android','Twitter for iPad','Twitter for iPhone','Other']\n",
    "\n",
    "    source_mod = source.loc[source.index.isin(offical)]\n",
    "\n",
    "    # # classify tweets from other sources as other\n",
    "\n",
    "    other = pd.Series([source.loc[~source.index.isin(offical)].sum()], index=['Other'])\n",
    "    source_mod = source_mod.append(other)\n",
    "    return source_mod \n",
    "\n",
    "sourceInfo(twitterdf)\n"
   ]
  }
 ],
 "metadata": {
  "kernelspec": {
   "display_name": "Python 3",
   "language": "python",
   "name": "python3"
  },
  "language_info": {
   "codemirror_mode": {
    "name": "ipython",
    "version": 3
   },
   "file_extension": ".py",
   "mimetype": "text/x-python",
   "name": "python",
   "nbconvert_exporter": "python",
   "pygments_lexer": "ipython3",
   "version": "3.6.4"
  }
 },
 "nbformat": 4,
 "nbformat_minor": 2
}
